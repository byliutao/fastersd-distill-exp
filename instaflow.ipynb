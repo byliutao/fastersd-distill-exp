{
 "cells": [
  {
   "cell_type": "code",
   "execution_count": null,
   "metadata": {},
   "outputs": [],
   "source": [
    "from pipeline_rf import RectifiedFlowPipeline\n",
    "import torch\n",
    "\n",
    "pipe = RectifiedFlowPipeline.from_pretrained(\"/data/model/instaflow_0_9B_from_sd_1_5\", torch_dtype=torch.float16) \n",
    "### switch to torch.float32 for higher quality\n",
    "\n",
    "pipe.to(\"cuda\")  ### if GPU is not available, comment this line"
   ]
  },
  {
   "cell_type": "code",
   "execution_count": null,
   "metadata": {},
   "outputs": [],
   "source": [
    "prompt = \"A poodle wearing a baseball cap and holding a dictionary in hand\"\n",
    "# A blue Porsche 356 parked in front of a brick wall\n",
    "# A DSLR photo of a cat jumping over a fence, high-res\n",
    "# A hyperrealistic photo of fox astronaut, perfect face, artstation\n",
    "# A photo of one ice cream ball in a luxurious plate, bokeh\n",
    "# A photograph of an astronaut riding a horse\n",
    "# A poodle wearing a baseball cap and holding a dictionary in hand\n",
    "### InstaFlow-0.9B is a one-step text-to-image generative model.\n",
    "### It only allows num_inference_steps=1 and guidance_scale=0.0; it does not support negative prompts (for now)\n",
    "\n",
    "for i in range(5):\n",
    "    images = pipe(prompt=prompt, \n",
    "                num_inference_steps=1, \n",
    "                guidance_scale=0.0).images \n",
    "\n",
    "    images[0].save(\"/home/liutao/workspace/distill/swift_prompt_results/instaflow_1_step/\"+prompt+\"_\"+str(i)+\".png\")"
   ]
  }
 ],
 "metadata": {
  "kernelspec": {
   "display_name": "instaflow",
   "language": "python",
   "name": "python3"
  },
  "language_info": {
   "codemirror_mode": {
    "name": "ipython",
    "version": 3
   },
   "file_extension": ".py",
   "mimetype": "text/x-python",
   "name": "python",
   "nbconvert_exporter": "python",
   "pygments_lexer": "ipython3",
   "version": "3.10.13"
  }
 },
 "nbformat": 4,
 "nbformat_minor": 2
}
