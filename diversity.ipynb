{
 "cells": [
  {
   "cell_type": "code",
   "execution_count": 2,
   "metadata": {},
   "outputs": [],
   "source": [
    "import torch\n",
    "import random\n",
    "import os\n",
    "from diffusers import DiffusionPipeline\n",
    "from diffusers import StableDiffusionPipeline, EulerDiscreteScheduler\n",
    "import torch\n",
    "from pipeline_rf import RectifiedFlowPipeline\n",
    "from diffusers import AutoPipelineForText2Image\n",
    "from dataclasses import dataclass\n",
    "from generate import generate_single_image, load_model"
   ]
  },
  {
   "cell_type": "markdown",
   "metadata": {},
   "source": [
    "# config"
   ]
  },
  {
   "cell_type": "code",
   "execution_count": 3,
   "metadata": {},
   "outputs": [],
   "source": [
    "@dataclass\n",
    "class TestConfig:\n",
    "    device = \"cuda\"\n",
    "    save_path = \"/home/liutao/workspace/data/diversity/\"\n",
    "    sd_id = \"/data/model/stable-diffusion-2-1\"\n",
    "    instaflow_id = \"/data/model/instaflow_0_9B_from_sd_1_5\"\n",
    "    lcm_id = \"/data/model/LCM_Dreamshaper_v7\"\n",
    "    sdxl_turbo_id = \"/data/model/sdxl-turbo\"\n",
    "    ours_path = \"/data/\"\n",
    "    ours_model_id = \"/data/20231212/SwiftBrush_reproduce_se_parallel/checkpoints_20240228/vsd_global_step9000_4nis.pth\"\n",
    "    # test_prompt = [\"A group of mushrooms that are sitting on the ground\", \"A man with a beard wearing glasses and a hat in blue shirt\"]\n",
    "    test_prompt = [\"A small waterfall in the middle of rocks, an airbrush painting\", \"A oil painting of red roses in a blue vase\", \"A brown and white dog running through water\",\n",
    "                    \"Reflection of the glass cube building and water surface\", \"A butterfly on flowers\", \"Milk and a sandwich with knife on a table\", \"A cute cat\", \"A cute dog\"]\n",
    "    items = [\"sd\", \"lcm\", \"sdxl_turbo\",\"instaflow\"]\n",
    "    sd_steps = [50]\n",
    "    instaflow_steps = [1]\n",
    "    lcm_steps = [1, 4]\n",
    "    sdxl_turbo_steps = [1, 4]\n",
    "    ours_steps = [4]\n",
    "    sd_size = 768\n",
    "    distill_size = 512\n",
    "    sample_nums = 1000\n",
    "    start_sample_num = 1000\n",
    "    end_sapmle_num = 2000\n",
    "    guidance_scale = 0.0\n",
    "    file_extension = \".jpg\"\n",
    "config = TestConfig()"
   ]
  },
  {
   "cell_type": "markdown",
   "metadata": {},
   "source": [
    "# baseline"
   ]
  },
  {
   "cell_type": "code",
   "execution_count": 5,
   "metadata": {},
   "outputs": [
    {
     "name": "stderr",
     "output_type": "stream",
     "text": [
      "Loading pipeline components...: 100%|██████████| 6/6 [00:00<00:00,  8.99it/s]\n"
     ]
    },
    {
     "name": "stdout",
     "output_type": "stream",
     "text": [
      "sd:50\n"
     ]
    },
    {
     "name": "stderr",
     "output_type": "stream",
     "text": [
      "Loading pipeline components...: 100%|██████████| 6/6 [00:00<00:00, 11.89it/s]\n"
     ]
    },
    {
     "name": "stdout",
     "output_type": "stream",
     "text": [
      "lcm:1\n",
      "lcm:4\n"
     ]
    },
    {
     "name": "stderr",
     "output_type": "stream",
     "text": [
      "Loading pipeline components...: 100%|██████████| 7/7 [00:00<00:00, 15.24it/s]\n"
     ]
    },
    {
     "name": "stdout",
     "output_type": "stream",
     "text": [
      "sdxl_turbo:1\n",
      "sdxl_turbo:4\n"
     ]
    },
    {
     "name": "stderr",
     "output_type": "stream",
     "text": [
      "Loading pipeline components...: 100%|██████████| 6/6 [00:00<00:00, 11.15it/s]\n"
     ]
    },
    {
     "name": "stdout",
     "output_type": "stream",
     "text": [
      "instaflow:1\n"
     ]
    }
   ],
   "source": [
    "# Iterate over the list with different steps\n",
    "for item in config.items:\n",
    "    if item == \"sd\":\n",
    "        steps = config.sd_steps\n",
    "        scheduler = EulerDiscreteScheduler.from_pretrained(config.sd_id, subfolder=\"scheduler\")\n",
    "        pipe = StableDiffusionPipeline.from_pretrained(config.sd_id, scheduler=scheduler, torch_dtype=torch.float16)\n",
    "        height = width = config.sd_size\n",
    "    elif item == \"lcm\":\n",
    "        steps = config.lcm_steps\n",
    "        pipe = DiffusionPipeline.from_pretrained(config.lcm_id, safety_checker=None, requires_safety_checker=False, torch_dtype=torch.float16)\n",
    "        height = width = config.distill_size\n",
    "    elif item == \"sdxl_turbo\":\n",
    "        steps = config.sdxl_turbo_steps\n",
    "        pipe = AutoPipelineForText2Image.from_pretrained(config.sdxl_turbo_id, torch_dtype=torch.float16, variant=\"fp16\")\n",
    "        height = width = config.distill_size\n",
    "    elif item == \"instaflow\":\n",
    "        steps = config.instaflow_steps\n",
    "        pipe = RectifiedFlowPipeline.from_pretrained(config.instaflow_id, torch_dtype=torch.float16, safety_checker=None, requires_safety_checker=False) \n",
    "        height = width = config.distill_size\n",
    "    pipe = pipe.to(config.device)\n",
    "    pipe.set_progress_bar_config(disable=True)\n",
    "    for step in steps:\n",
    "        print(f\"{item}:{step}\")\n",
    "        dir_name = item+str(step)\n",
    "        directory = os.path.join(config.save_path,dir_name)\n",
    "        if not os.path.exists(directory):\n",
    "            os.makedirs(directory)\n",
    "\n",
    "        for prompt in config.test_prompt:\n",
    "            for i in range(config.start_sample_num, config.end_sapmle_num):\n",
    "                image = pipe(prompt=prompt, num_inference_steps=step, guidance_scale=config.guidance_scale, height=height, width=width).images[0]\n",
    "                image_name = prompt+\"_\"+str(i)+config.file_extension\n",
    "                image.save(os.path.join(directory,image_name))\n",
    "            print(prompt)\n",
    "\n",
    "    torch.cuda.empty_cache()    \n",
    "        "
   ]
  },
  {
   "cell_type": "markdown",
   "metadata": {},
   "source": [
    "# ours"
   ]
  },
  {
   "cell_type": "code",
   "execution_count": null,
   "metadata": {},
   "outputs": [],
   "source": [
    "item = \"ours\"\n",
    "steps = config.ours_steps\n",
    "vae, tokenizer, text_encoder, unet, scheduler, alphas = load_model(config.ours_path, config.ours_model_id, config.device)\n",
    "for step in steps:\n",
    "    print(f\"{item}:{step}\")\n",
    "    dir_name = item+str(step)\n",
    "    directory = os.path.join(config.save_path,dir_name)\n",
    "    if not os.path.exists(directory):\n",
    "        os.makedirs(directory)\n",
    "\n",
    "    for prompt in config.test_prompt:\n",
    "        for i in range(config.start_sample_num, config.end_sapmle_num):\n",
    "            image = generate_single_image(network=(vae, tokenizer, text_encoder, unet, scheduler),prompt=prompt, seed=random.randint(1, 1e11),num_inference_steps=step)\n",
    "            image_name = prompt+\"_\"+str(i)+config.file_extension\n",
    "            image.save(os.path.join(directory,image_name))\n",
    "        print(prompt)\n",
    "    \n",
    "torch.cuda.empty_cache()"
   ]
  }
 ],
 "metadata": {
  "kernelspec": {
   "display_name": "instaflow",
   "language": "python",
   "name": "python3"
  },
  "language_info": {
   "codemirror_mode": {
    "name": "ipython",
    "version": 3
   },
   "file_extension": ".py",
   "mimetype": "text/x-python",
   "name": "python",
   "nbconvert_exporter": "python",
   "pygments_lexer": "ipython3",
   "version": "3.10.13"
  }
 },
 "nbformat": 4,
 "nbformat_minor": 2
}
