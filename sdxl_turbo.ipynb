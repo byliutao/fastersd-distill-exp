{
 "cells": [
  {
   "cell_type": "code",
   "execution_count": null,
   "metadata": {},
   "outputs": [],
   "source": [
    "from diffusers import AutoPipelineForText2Image\n",
    "import torch\n",
    "\n",
    "pipe = AutoPipelineForText2Image.from_pretrained(\"/data/model/sdxl-turbo\", torch_dtype=torch.float16, variant=\"fp16\")\n",
    "pipe.to(\"cuda\")"
   ]
  },
  {
   "cell_type": "code",
   "execution_count": null,
   "metadata": {},
   "outputs": [],
   "source": [
    "prompts = [\"A blue Porsche 356 parked in front of a brick wall\",\n",
    "    \"A blue Porsche 356 parked in front of a brick wall\",\n",
    "    \"A DSLR photo of a cat jumping over a fence, high-res\",\n",
    "    \"A hyperrealistic photo of fox astronaut, perfect face, artstation\",\n",
    "    \"A photo of one ice cream ball in a luxurious plate, bokeh\",\n",
    "    \"A photograph of an astronaut riding a horse\",\n",
    "    \"A poodle wearing a baseball cap and holding a dictionary in hand\"]\n",
    "for prompt in prompts:\n",
    "    for i in range(5):\n",
    "        image = pipe(prompt=prompt, num_inference_steps=4, guidance_scale=0.0).images[0]\n",
    "        image.save(\"/home/liutao/workspace/distill/swift_prompt_results/sdxl-turbo_4_step/\"+prompt+\"_\"+str(i)+\".png\")\n"
   ]
  }
 ],
 "metadata": {
  "kernelspec": {
   "display_name": "base",
   "language": "python",
   "name": "python3"
  },
  "language_info": {
   "codemirror_mode": {
    "name": "ipython",
    "version": 3
   },
   "file_extension": ".py",
   "mimetype": "text/x-python",
   "name": "python",
   "nbconvert_exporter": "python",
   "pygments_lexer": "ipython3",
   "version": "3.10.13"
  }
 },
 "nbformat": 4,
 "nbformat_minor": 2
}
