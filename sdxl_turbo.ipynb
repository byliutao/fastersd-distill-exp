{
 "cells": [
  {
   "cell_type": "code",
   "execution_count": 1,
   "metadata": {},
   "outputs": [
    {
     "name": "stderr",
     "output_type": "stream",
     "text": [
      "/home/liutao/miniconda3/envs/instaflow/lib/python3.10/site-packages/tqdm/auto.py:21: TqdmWarning: IProgress not found. Please update jupyter and ipywidgets. See https://ipywidgets.readthedocs.io/en/stable/user_install.html\n",
      "  from .autonotebook import tqdm as notebook_tqdm\n",
      "Loading pipeline components...: 100%|██████████| 7/7 [00:10<00:00,  1.45s/it]\n"
     ]
    },
    {
     "data": {
      "text/plain": [
       "StableDiffusionXLPipeline {\n",
       "  \"_class_name\": \"StableDiffusionXLPipeline\",\n",
       "  \"_diffusers_version\": \"0.25.0\",\n",
       "  \"_name_or_path\": \"/data/model/sdxl-turbo\",\n",
       "  \"feature_extractor\": [\n",
       "    null,\n",
       "    null\n",
       "  ],\n",
       "  \"force_zeros_for_empty_prompt\": true,\n",
       "  \"image_encoder\": [\n",
       "    null,\n",
       "    null\n",
       "  ],\n",
       "  \"scheduler\": [\n",
       "    \"diffusers\",\n",
       "    \"EulerAncestralDiscreteScheduler\"\n",
       "  ],\n",
       "  \"text_encoder\": [\n",
       "    \"transformers\",\n",
       "    \"CLIPTextModel\"\n",
       "  ],\n",
       "  \"text_encoder_2\": [\n",
       "    \"transformers\",\n",
       "    \"CLIPTextModelWithProjection\"\n",
       "  ],\n",
       "  \"tokenizer\": [\n",
       "    \"transformers\",\n",
       "    \"CLIPTokenizer\"\n",
       "  ],\n",
       "  \"tokenizer_2\": [\n",
       "    \"transformers\",\n",
       "    \"CLIPTokenizer\"\n",
       "  ],\n",
       "  \"unet\": [\n",
       "    \"diffusers\",\n",
       "    \"UNet2DConditionModel\"\n",
       "  ],\n",
       "  \"vae\": [\n",
       "    \"diffusers\",\n",
       "    \"AutoencoderKL\"\n",
       "  ]\n",
       "}"
      ]
     },
     "execution_count": 1,
     "metadata": {},
     "output_type": "execute_result"
    }
   ],
   "source": [
    "from diffusers import AutoPipelineForText2Image\n",
    "import torch\n",
    "\n",
    "pipe = AutoPipelineForText2Image.from_pretrained(\"/data/model/sdxl-turbo\", torch_dtype=torch.float16, variant=\"fp16\")\n",
    "pipe.to(\"cuda\")"
   ]
  },
  {
   "cell_type": "code",
   "execution_count": 3,
   "metadata": {},
   "outputs": [
    {
     "name": "stderr",
     "output_type": "stream",
     "text": [
      "  0%|          | 0/4 [00:00<?, ?it/s]"
     ]
    },
    {
     "name": "stderr",
     "output_type": "stream",
     "text": [
      "100%|██████████| 4/4 [00:00<00:00, 24.54it/s]\n",
      "100%|██████████| 4/4 [00:00<00:00, 27.05it/s]\n",
      "100%|██████████| 4/4 [00:00<00:00, 26.77it/s]\n",
      "100%|██████████| 4/4 [00:00<00:00, 26.82it/s]\n",
      "100%|██████████| 4/4 [00:00<00:00, 26.90it/s]\n",
      "100%|██████████| 4/4 [00:00<00:00, 26.74it/s]\n",
      "100%|██████████| 4/4 [00:00<00:00, 26.70it/s]\n",
      "100%|██████████| 4/4 [00:00<00:00, 26.77it/s]\n",
      "100%|██████████| 4/4 [00:00<00:00, 26.78it/s]\n",
      "100%|██████████| 4/4 [00:00<00:00, 26.80it/s]\n",
      "100%|██████████| 4/4 [00:00<00:00, 26.74it/s]\n",
      "100%|██████████| 4/4 [00:00<00:00, 26.72it/s]\n",
      "100%|██████████| 4/4 [00:00<00:00, 26.79it/s]\n",
      "100%|██████████| 4/4 [00:00<00:00, 26.76it/s]\n",
      "100%|██████████| 4/4 [00:00<00:00, 26.79it/s]\n",
      "100%|██████████| 4/4 [00:00<00:00, 26.80it/s]\n",
      "100%|██████████| 4/4 [00:00<00:00, 26.78it/s]\n",
      "100%|██████████| 4/4 [00:00<00:00, 26.79it/s]\n",
      "100%|██████████| 4/4 [00:00<00:00, 26.77it/s]\n",
      "100%|██████████| 4/4 [00:00<00:00, 26.73it/s]\n",
      "100%|██████████| 4/4 [00:00<00:00, 26.79it/s]\n",
      "100%|██████████| 4/4 [00:00<00:00, 26.67it/s]\n",
      "100%|██████████| 4/4 [00:00<00:00, 26.74it/s]\n",
      "100%|██████████| 4/4 [00:00<00:00, 26.76it/s]\n",
      "100%|██████████| 4/4 [00:00<00:00, 26.74it/s]\n",
      "100%|██████████| 4/4 [00:00<00:00, 26.75it/s]\n",
      "100%|██████████| 4/4 [00:00<00:00, 26.93it/s]\n",
      "100%|██████████| 4/4 [00:00<00:00, 26.93it/s]\n",
      "100%|██████████| 4/4 [00:00<00:00, 26.96it/s]\n",
      "100%|██████████| 4/4 [00:00<00:00, 26.96it/s]\n",
      "100%|██████████| 4/4 [00:00<00:00, 26.95it/s]\n",
      "100%|██████████| 4/4 [00:00<00:00, 26.93it/s]\n",
      "100%|██████████| 4/4 [00:00<00:00, 26.97it/s]\n",
      "100%|██████████| 4/4 [00:00<00:00, 26.89it/s]\n",
      "100%|██████████| 4/4 [00:00<00:00, 26.92it/s]\n"
     ]
    }
   ],
   "source": [
    "prompts = [\"A blue Porsche 356 parked in front of a brick wall\",\n",
    "    \"A blue Porsche 356 parked in front of a brick wall\",\n",
    "    \"A DSLR photo of a cat jumping over a fence, high-res\",\n",
    "    \"A hyperrealistic photo of fox astronaut, perfect face, artstation\",\n",
    "    \"A photo of one ice cream ball in a luxurious plate, bokeh\",\n",
    "    \"A photograph of an astronaut riding a horse\",\n",
    "    \"A poodle wearing a baseball cap and holding a dictionary in hand\"]\n",
    "for prompt in prompts:\n",
    "    for i in range(5):\n",
    "        image = pipe(prompt=prompt, num_inference_steps=4, guidance_scale=0.0).images[0]\n",
    "        image.save(\"/home/liutao/workspace/distill/swift_prompt_results/sdxl-turbo_4_step/\"+prompt+\"_\"+str(i)+\".png\")\n"
   ]
  }
 ],
 "metadata": {
  "kernelspec": {
   "display_name": "base",
   "language": "python",
   "name": "python3"
  },
  "language_info": {
   "codemirror_mode": {
    "name": "ipython",
    "version": 3
   },
   "file_extension": ".py",
   "mimetype": "text/x-python",
   "name": "python",
   "nbconvert_exporter": "python",
   "pygments_lexer": "ipython3",
   "version": "3.10.13"
  }
 },
 "nbformat": 4,
 "nbformat_minor": 2
}
