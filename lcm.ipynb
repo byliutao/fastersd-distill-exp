{
 "cells": [
  {
   "cell_type": "code",
   "execution_count": 1,
   "metadata": {},
   "outputs": [
    {
     "name": "stderr",
     "output_type": "stream",
     "text": [
      "/home/liutao/miniconda3/envs/instaflow/lib/python3.10/site-packages/tqdm/auto.py:21: TqdmWarning: IProgress not found. Please update jupyter and ipywidgets. See https://ipywidgets.readthedocs.io/en/stable/user_install.html\n",
      "  from .autonotebook import tqdm as notebook_tqdm\n",
      "Loading pipeline components...: 100%|██████████| 7/7 [00:00<00:00, 23.09it/s]\n",
      "/home/liutao/miniconda3/envs/instaflow/lib/python3.10/site-packages/diffusers/pipelines/pipeline_utils.py:766: FutureWarning: `torch_dtype` is deprecated and will be removed in version 0.27.0. \n",
      "  deprecate(\"torch_dtype\", \"0.27.0\", \"\")\n",
      "/home/liutao/miniconda3/envs/instaflow/lib/python3.10/site-packages/diffusers/pipelines/pipeline_utils.py:769: FutureWarning: `torch_device` is deprecated and will be removed in version 0.27.0. \n",
      "  deprecate(\"torch_device\", \"0.27.0\", \"\")\n"
     ]
    },
    {
     "data": {
      "text/plain": [
       "LatentConsistencyModelPipeline {\n",
       "  \"_class_name\": \"LatentConsistencyModelPipeline\",\n",
       "  \"_diffusers_version\": \"0.25.0\",\n",
       "  \"_name_or_path\": \"/data/model/LCM_Dreamshaper_v7\",\n",
       "  \"feature_extractor\": [\n",
       "    \"transformers\",\n",
       "    \"CLIPImageProcessor\"\n",
       "  ],\n",
       "  \"image_encoder\": [\n",
       "    null,\n",
       "    null\n",
       "  ],\n",
       "  \"requires_safety_checker\": true,\n",
       "  \"safety_checker\": [\n",
       "    \"stable_diffusion\",\n",
       "    \"StableDiffusionSafetyChecker\"\n",
       "  ],\n",
       "  \"scheduler\": [\n",
       "    \"diffusers\",\n",
       "    \"LCMScheduler\"\n",
       "  ],\n",
       "  \"text_encoder\": [\n",
       "    \"transformers\",\n",
       "    \"CLIPTextModel\"\n",
       "  ],\n",
       "  \"tokenizer\": [\n",
       "    \"transformers\",\n",
       "    \"CLIPTokenizer\"\n",
       "  ],\n",
       "  \"unet\": [\n",
       "    \"diffusers\",\n",
       "    \"UNet2DConditionModel\"\n",
       "  ],\n",
       "  \"vae\": [\n",
       "    \"diffusers\",\n",
       "    \"AutoencoderKL\"\n",
       "  ]\n",
       "}"
      ]
     },
     "execution_count": 1,
     "metadata": {},
     "output_type": "execute_result"
    }
   ],
   "source": [
    "from diffusers import DiffusionPipeline\n",
    "import torch\n",
    "\n",
    "pipe = DiffusionPipeline.from_pretrained(\"/data/model/LCM_Dreamshaper_v7\")\n",
    "\n",
    "# To save GPU memory, torch.float16 can be used, but it may compromise image quality.\n",
    "pipe.to(torch_device=\"cuda\", torch_dtype=torch.float32)\n",
    "\n"
   ]
  },
  {
   "cell_type": "code",
   "execution_count": 26,
   "metadata": {},
   "outputs": [
    {
     "name": "stderr",
     "output_type": "stream",
     "text": [
      "  0%|          | 0/2 [00:00<?, ?it/s]"
     ]
    },
    {
     "name": "stderr",
     "output_type": "stream",
     "text": [
      "100%|██████████| 2/2 [00:00<00:00,  4.76it/s]\n",
      "100%|██████████| 2/2 [00:00<00:00,  4.86it/s]\n",
      "100%|██████████| 2/2 [00:00<00:00,  4.86it/s]\n",
      "100%|██████████| 2/2 [00:00<00:00,  4.86it/s]\n",
      "100%|██████████| 2/2 [00:00<00:00,  4.86it/s]\n"
     ]
    }
   ],
   "source": [
    "# Can be set to 1~50 steps. LCM support fast inference even <= 4 steps. Recommend: 1~8 steps.\n",
    "num_inference_steps = 2\n",
    "\n",
    "prompts = [\"A blue Porsche 356 parked in front of a brick wall\",\n",
    "    \"A blue Porsche 356 parked in front of a brick wall\",\n",
    "    \"A DSLR photo of a cat jumping over a fence, high-res\",\n",
    "    \"A hyperrealistic photo of fox astronaut, perfect face, artstation\",\n",
    "    \"A photo of one ice cream ball in a luxurious plate, bokeh\",\n",
    "    \"A photograph of an astronaut riding a horse\",\n",
    "    \"A poodle wearing a baseball cap and holding a dictionary in hand\"]\n",
    "for prompt in prompts:\n",
    "    for i in range(5):\n",
    "        images = pipe(prompt=prompt, num_inference_steps=num_inference_steps, guidance_scale=8.0, lcm_origin_steps=50, output_type=\"pil\").images\n",
    "        images[0].save(\"/home/liutao/workspace/distill/swift_prompt_results/lcm_\"+str(num_inference_steps)+\"_step/\"+prompt+\"_\"+str(i)+\".png\")\n"
   ]
  }
 ],
 "metadata": {
  "kernelspec": {
   "display_name": "base",
   "language": "python",
   "name": "python3"
  },
  "language_info": {
   "codemirror_mode": {
    "name": "ipython",
    "version": 3
   },
   "file_extension": ".py",
   "mimetype": "text/x-python",
   "name": "python",
   "nbconvert_exporter": "python",
   "pygments_lexer": "ipython3",
   "version": "3.10.13"
  }
 },
 "nbformat": 4,
 "nbformat_minor": 2
}
